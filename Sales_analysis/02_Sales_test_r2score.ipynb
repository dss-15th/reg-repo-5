{
 "cells": [
  {
   "cell_type": "code",
   "execution_count": 1,
   "metadata": {},
   "outputs": [
    {
     "data": {
      "text/html": [
       "<div>\n",
       "<style scoped>\n",
       "    .dataframe tbody tr th:only-of-type {\n",
       "        vertical-align: middle;\n",
       "    }\n",
       "\n",
       "    .dataframe tbody tr th {\n",
       "        vertical-align: top;\n",
       "    }\n",
       "\n",
       "    .dataframe thead th {\n",
       "        text-align: right;\n",
       "    }\n",
       "</style>\n",
       "<table border=\"1\" class=\"dataframe\">\n",
       "  <thead>\n",
       "    <tr style=\"text-align: right;\">\n",
       "      <th></th>\n",
       "      <th>Movie</th>\n",
       "      <th>Distributor</th>\n",
       "      <th>Screen</th>\n",
       "      <th>Sales</th>\n",
       "      <th>Audience</th>\n",
       "      <th>Genre</th>\n",
       "      <th>Rate</th>\n",
       "      <th>Year</th>\n",
       "      <th>Month</th>\n",
       "      <th>Season</th>\n",
       "    </tr>\n",
       "  </thead>\n",
       "  <tbody>\n",
       "    <tr>\n",
       "      <th>0</th>\n",
       "      <td>명량</td>\n",
       "      <td>씨제이이앤엠(주)</td>\n",
       "      <td>1587</td>\n",
       "      <td>135748.398910</td>\n",
       "      <td>17613.682</td>\n",
       "      <td>사극</td>\n",
       "      <td>15세이상관람가</td>\n",
       "      <td>2014</td>\n",
       "      <td>7</td>\n",
       "      <td>3</td>\n",
       "    </tr>\n",
       "    <tr>\n",
       "      <th>1</th>\n",
       "      <td>극한직업</td>\n",
       "      <td>씨제이이앤엠(주)</td>\n",
       "      <td>1978</td>\n",
       "      <td>139647.979516</td>\n",
       "      <td>16264.944</td>\n",
       "      <td>코미디</td>\n",
       "      <td>15세이상관람가</td>\n",
       "      <td>2019</td>\n",
       "      <td>1</td>\n",
       "      <td>1</td>\n",
       "    </tr>\n",
       "    <tr>\n",
       "      <th>2</th>\n",
       "      <td>신과함께-죄와 벌</td>\n",
       "      <td>롯데쇼핑㈜롯데엔터테인먼트</td>\n",
       "      <td>1912</td>\n",
       "      <td>115698.654137</td>\n",
       "      <td>14410.754</td>\n",
       "      <td>판타지</td>\n",
       "      <td>12세이상관람가</td>\n",
       "      <td>2017</td>\n",
       "      <td>12</td>\n",
       "      <td>1</td>\n",
       "    </tr>\n",
       "    <tr>\n",
       "      <th>3</th>\n",
       "      <td>국제시장</td>\n",
       "      <td>씨제이이앤엠(주)</td>\n",
       "      <td>966</td>\n",
       "      <td>110828.014630</td>\n",
       "      <td>14245.998</td>\n",
       "      <td>드라마</td>\n",
       "      <td>12세이상관람가</td>\n",
       "      <td>2014</td>\n",
       "      <td>12</td>\n",
       "      <td>1</td>\n",
       "    </tr>\n",
       "    <tr>\n",
       "      <th>4</th>\n",
       "      <td>베테랑</td>\n",
       "      <td>씨제이이앤엠(주)</td>\n",
       "      <td>1064</td>\n",
       "      <td>105024.756250</td>\n",
       "      <td>13395.400</td>\n",
       "      <td>액션</td>\n",
       "      <td>15세이상관람가</td>\n",
       "      <td>2015</td>\n",
       "      <td>8</td>\n",
       "      <td>3</td>\n",
       "    </tr>\n",
       "    <tr>\n",
       "      <th>...</th>\n",
       "      <td>...</td>\n",
       "      <td>...</td>\n",
       "      <td>...</td>\n",
       "      <td>...</td>\n",
       "      <td>...</td>\n",
       "      <td>...</td>\n",
       "      <td>...</td>\n",
       "      <td>...</td>\n",
       "      <td>...</td>\n",
       "      <td>...</td>\n",
       "    </tr>\n",
       "    <tr>\n",
       "      <th>806</th>\n",
       "      <td>은교</td>\n",
       "      <td>롯데쇼핑㈜롯데엔터테인먼트</td>\n",
       "      <td>521</td>\n",
       "      <td>9917.728000</td>\n",
       "      <td>1346.274</td>\n",
       "      <td>멜로/로맨스</td>\n",
       "      <td>청소년관람불가</td>\n",
       "      <td>2012</td>\n",
       "      <td>4</td>\n",
       "      <td>2</td>\n",
       "    </tr>\n",
       "    <tr>\n",
       "      <th>807</th>\n",
       "      <td>마담 뺑덕</td>\n",
       "      <td>씨제이이앤엠(주)</td>\n",
       "      <td>536</td>\n",
       "      <td>3685.882590</td>\n",
       "      <td>465.749</td>\n",
       "      <td>멜로/로맨스</td>\n",
       "      <td>청소년관람불가</td>\n",
       "      <td>2014</td>\n",
       "      <td>10</td>\n",
       "      <td>4</td>\n",
       "    </tr>\n",
       "    <tr>\n",
       "      <th>808</th>\n",
       "      <td>나의 PS 파트너</td>\n",
       "      <td>씨제이이앤엠(주)</td>\n",
       "      <td>552</td>\n",
       "      <td>13845.218616</td>\n",
       "      <td>1823.116</td>\n",
       "      <td>멜로/로맨스</td>\n",
       "      <td>청소년관람불가</td>\n",
       "      <td>2012</td>\n",
       "      <td>12</td>\n",
       "      <td>1</td>\n",
       "    </tr>\n",
       "    <tr>\n",
       "      <th>809</th>\n",
       "      <td>연애의 온도</td>\n",
       "      <td>롯데쇼핑㈜롯데엔터테인먼트</td>\n",
       "      <td>567</td>\n",
       "      <td>13798.864446</td>\n",
       "      <td>1865.195</td>\n",
       "      <td>멜로/로맨스</td>\n",
       "      <td>청소년관람불가</td>\n",
       "      <td>2013</td>\n",
       "      <td>3</td>\n",
       "      <td>2</td>\n",
       "    </tr>\n",
       "    <tr>\n",
       "      <th>810</th>\n",
       "      <td>인간중독</td>\n",
       "      <td>(주)넥스트엔터테인먼트월드(NEW)</td>\n",
       "      <td>682</td>\n",
       "      <td>11284.787400</td>\n",
       "      <td>1441.964</td>\n",
       "      <td>멜로/로맨스</td>\n",
       "      <td>청소년관람불가</td>\n",
       "      <td>2014</td>\n",
       "      <td>5</td>\n",
       "      <td>2</td>\n",
       "    </tr>\n",
       "  </tbody>\n",
       "</table>\n",
       "<p>811 rows × 10 columns</p>\n",
       "</div>"
      ],
      "text/plain": [
       "         Movie          Distributor  Screen          Sales   Audience   Genre  \\\n",
       "0           명량            씨제이이앤엠(주)    1587  135748.398910  17613.682      사극   \n",
       "1         극한직업            씨제이이앤엠(주)    1978  139647.979516  16264.944     코미디   \n",
       "2    신과함께-죄와 벌        롯데쇼핑㈜롯데엔터테인먼트    1912  115698.654137  14410.754     판타지   \n",
       "3         국제시장            씨제이이앤엠(주)     966  110828.014630  14245.998     드라마   \n",
       "4          베테랑            씨제이이앤엠(주)    1064  105024.756250  13395.400      액션   \n",
       "..         ...                  ...     ...            ...        ...     ...   \n",
       "806         은교        롯데쇼핑㈜롯데엔터테인먼트     521    9917.728000   1346.274  멜로/로맨스   \n",
       "807      마담 뺑덕            씨제이이앤엠(주)     536    3685.882590    465.749  멜로/로맨스   \n",
       "808  나의 PS 파트너            씨제이이앤엠(주)     552   13845.218616   1823.116  멜로/로맨스   \n",
       "809     연애의 온도        롯데쇼핑㈜롯데엔터테인먼트     567   13798.864446   1865.195  멜로/로맨스   \n",
       "810       인간중독  (주)넥스트엔터테인먼트월드(NEW)     682   11284.787400   1441.964  멜로/로맨스   \n",
       "\n",
       "         Rate  Year  Month  Season  \n",
       "0    15세이상관람가  2014      7       3  \n",
       "1    15세이상관람가  2019      1       1  \n",
       "2    12세이상관람가  2017     12       1  \n",
       "3    12세이상관람가  2014     12       1  \n",
       "4    15세이상관람가  2015      8       3  \n",
       "..        ...   ...    ...     ...  \n",
       "806   청소년관람불가  2012      4       2  \n",
       "807   청소년관람불가  2014     10       4  \n",
       "808   청소년관람불가  2012     12       1  \n",
       "809   청소년관람불가  2013      3       2  \n",
       "810   청소년관람불가  2014      5       2  \n",
       "\n",
       "[811 rows x 10 columns]"
      ]
     },
     "execution_count": 1,
     "metadata": {},
     "output_type": "execute_result"
    }
   ],
   "source": [
    "movie = pd.read_csv('./datas/final_movie_Rev4.csv', index_col=[0])\n",
    "movie"
   ]
  },
  {
   "cell_type": "code",
   "execution_count": 2,
   "metadata": {},
   "outputs": [],
   "source": [
    "import matplotlib.pyplot as plt\n",
    "import seaborn as sns\n",
    "%matplotlib inline\n",
    "\n",
    "from matplotlib import font_manager\n",
    "f_path = \"C:\\Windows\\Fonts\\malgun.ttf\"\n",
    "font_manager.FontProperties(fname=f_path).get_name()\n",
    "from matplotlib import rc\n",
    "rc('font', family='Malgun Gothic')\n",
    "\n",
    "import warnings\n",
    "warnings.filterwarnings('ignore')"
   ]
  },
  {
   "cell_type": "code",
   "execution_count": 3,
   "metadata": {},
   "outputs": [
    {
     "name": "stdout",
     "output_type": "stream",
     "text": [
      "<class 'pandas.core.frame.DataFrame'>\n",
      "Int64Index: 811 entries, 0 to 810\n",
      "Data columns (total 10 columns):\n",
      " #   Column       Non-Null Count  Dtype  \n",
      "---  ------       --------------  -----  \n",
      " 0   Movie        811 non-null    object \n",
      " 1   Distributor  811 non-null    object \n",
      " 2   Screen       811 non-null    int64  \n",
      " 3   Sales        811 non-null    float64\n",
      " 4   Audience     811 non-null    float64\n",
      " 5   Genre        811 non-null    object \n",
      " 6   Rate         811 non-null    object \n",
      " 7   Year         811 non-null    int64  \n",
      " 8   Month        811 non-null    int64  \n",
      " 9   Season       811 non-null    int64  \n",
      "dtypes: float64(2), int64(4), object(4)\n",
      "memory usage: 69.7+ KB\n"
     ]
    }
   ],
   "source": [
    "movie.info()"
   ]
  },
  {
   "cell_type": "code",
   "execution_count": 4,
   "metadata": {},
   "outputs": [],
   "source": [
    "from sklearn.model_selection import train_test_split\n",
    "import numpy as np"
   ]
  },
  {
   "cell_type": "code",
   "execution_count": 5,
   "metadata": {},
   "outputs": [],
   "source": [
    "numerics = ['int64', 'float64']\n",
    "movie_train = movie.select_dtypes(include=numerics)"
   ]
  },
  {
   "cell_type": "code",
   "execution_count": 6,
   "metadata": {},
   "outputs": [],
   "source": [
    "X = movie_train.drop(['Sales', 'Audience'], axis=1)\n",
    "y = movie_train['Sales']\n",
    "\n",
    "X_train, X_test, y_train, y_test = train_test_split(X, y, test_size=0.2, random_state=13)"
   ]
  },
  {
   "cell_type": "code",
   "execution_count": 7,
   "metadata": {},
   "outputs": [
    {
     "data": {
      "text/html": [
       "<div>\n",
       "<style scoped>\n",
       "    .dataframe tbody tr th:only-of-type {\n",
       "        vertical-align: middle;\n",
       "    }\n",
       "\n",
       "    .dataframe tbody tr th {\n",
       "        vertical-align: top;\n",
       "    }\n",
       "\n",
       "    .dataframe thead th {\n",
       "        text-align: right;\n",
       "    }\n",
       "</style>\n",
       "<table border=\"1\" class=\"dataframe\">\n",
       "  <thead>\n",
       "    <tr style=\"text-align: right;\">\n",
       "      <th></th>\n",
       "      <th>Screen</th>\n",
       "      <th>Year</th>\n",
       "      <th>Month</th>\n",
       "      <th>Season</th>\n",
       "    </tr>\n",
       "  </thead>\n",
       "  <tbody>\n",
       "    <tr>\n",
       "      <th>0</th>\n",
       "      <td>1587</td>\n",
       "      <td>2014</td>\n",
       "      <td>7</td>\n",
       "      <td>3</td>\n",
       "    </tr>\n",
       "    <tr>\n",
       "      <th>1</th>\n",
       "      <td>1978</td>\n",
       "      <td>2019</td>\n",
       "      <td>1</td>\n",
       "      <td>1</td>\n",
       "    </tr>\n",
       "    <tr>\n",
       "      <th>2</th>\n",
       "      <td>1912</td>\n",
       "      <td>2017</td>\n",
       "      <td>12</td>\n",
       "      <td>1</td>\n",
       "    </tr>\n",
       "    <tr>\n",
       "      <th>3</th>\n",
       "      <td>966</td>\n",
       "      <td>2014</td>\n",
       "      <td>12</td>\n",
       "      <td>1</td>\n",
       "    </tr>\n",
       "    <tr>\n",
       "      <th>4</th>\n",
       "      <td>1064</td>\n",
       "      <td>2015</td>\n",
       "      <td>8</td>\n",
       "      <td>3</td>\n",
       "    </tr>\n",
       "    <tr>\n",
       "      <th>...</th>\n",
       "      <td>...</td>\n",
       "      <td>...</td>\n",
       "      <td>...</td>\n",
       "      <td>...</td>\n",
       "    </tr>\n",
       "    <tr>\n",
       "      <th>806</th>\n",
       "      <td>521</td>\n",
       "      <td>2012</td>\n",
       "      <td>4</td>\n",
       "      <td>2</td>\n",
       "    </tr>\n",
       "    <tr>\n",
       "      <th>807</th>\n",
       "      <td>536</td>\n",
       "      <td>2014</td>\n",
       "      <td>10</td>\n",
       "      <td>4</td>\n",
       "    </tr>\n",
       "    <tr>\n",
       "      <th>808</th>\n",
       "      <td>552</td>\n",
       "      <td>2012</td>\n",
       "      <td>12</td>\n",
       "      <td>1</td>\n",
       "    </tr>\n",
       "    <tr>\n",
       "      <th>809</th>\n",
       "      <td>567</td>\n",
       "      <td>2013</td>\n",
       "      <td>3</td>\n",
       "      <td>2</td>\n",
       "    </tr>\n",
       "    <tr>\n",
       "      <th>810</th>\n",
       "      <td>682</td>\n",
       "      <td>2014</td>\n",
       "      <td>5</td>\n",
       "      <td>2</td>\n",
       "    </tr>\n",
       "  </tbody>\n",
       "</table>\n",
       "<p>811 rows × 4 columns</p>\n",
       "</div>"
      ],
      "text/plain": [
       "     Screen  Year  Month  Season\n",
       "0      1587  2014      7       3\n",
       "1      1978  2019      1       1\n",
       "2      1912  2017     12       1\n",
       "3       966  2014     12       1\n",
       "4      1064  2015      8       3\n",
       "..      ...   ...    ...     ...\n",
       "806     521  2012      4       2\n",
       "807     536  2014     10       4\n",
       "808     552  2012     12       1\n",
       "809     567  2013      3       2\n",
       "810     682  2014      5       2\n",
       "\n",
       "[811 rows x 4 columns]"
      ]
     },
     "execution_count": 7,
     "metadata": {},
     "output_type": "execute_result"
    }
   ],
   "source": [
    "X"
   ]
  },
  {
   "cell_type": "code",
   "execution_count": 8,
   "metadata": {},
   "outputs": [
    {
     "data": {
      "text/plain": [
       "LinearRegression()"
      ]
     },
     "execution_count": 8,
     "metadata": {},
     "output_type": "execute_result"
    }
   ],
   "source": [
    "from sklearn.linear_model import LinearRegression\n",
    "from sklearn.metrics import mean_squared_error\n",
    "\n",
    "reg = LinearRegression()\n",
    "reg.fit(X_train, y_train)"
   ]
  },
  {
   "cell_type": "code",
   "execution_count": 9,
   "metadata": {},
   "outputs": [
    {
     "name": "stdout",
     "output_type": "stream",
     "text": [
      "RMSE of Train Data :  11924.700646196408\n",
      "RMSE of Test Data :  13207.672073229283\n"
     ]
    }
   ],
   "source": [
    "pred_tr = reg.predict(X_train)\n",
    "pred_test = reg.predict(X_test)\n",
    "rmse_tr = (np.sqrt(mean_squared_error(y_train, pred_tr)))\n",
    "rmse_test = (np.sqrt(mean_squared_error(y_test, pred_test)))\n",
    "\n",
    "print('RMSE of Train Data : ', rmse_tr)\n",
    "print('RMSE of Test Data : ', rmse_test)"
   ]
  },
  {
   "cell_type": "code",
   "execution_count": 11,
   "metadata": {},
   "outputs": [
    {
     "data": {
      "image/png": "[encoded data removed]",
      "text/plain": [
       "<Figure size 432x288 with 1 Axes>"
      ]
     },
     "metadata": {},
     "output_type": "display_data"
    }
   ],
   "source": [
    "sns.set_style('darkgrid')\n",
    "plt.scatter(y_test, pred_test)\n",
    "plt.xlabel(\"Actual Sales\")\n",
    "plt.ylabel(\"Predicted Sales\")\n",
    "plt.plot([0,50000], [0,50000], 'r');"
   ]
  },
  {
   "cell_type": "code",
   "execution_count": 181,
   "metadata": {},
   "outputs": [
    {
     "data": {
      "text/plain": [
       "DecisionTreeRegressor(random_state=13)"
      ]
     },
     "execution_count": 181,
     "metadata": {},
     "output_type": "execute_result"
    }
   ],
   "source": [
    "from sklearn.tree import DecisionTreeRegressor\n",
    "\n",
    "tree_reg = DecisionTreeRegressor(random_state=13)\n",
    "tree_reg.fit(X_train, y_train)"
   ]
  },
  {
   "cell_type": "code",
   "execution_count": 182,
   "metadata": {},
   "outputs": [
    {
     "name": "stdout",
     "output_type": "stream",
     "text": [
      "R2 of train :  1.0\n",
      "R2 of test :  0.9930427484131645\n"
     ]
    }
   ],
   "source": [
    "pred_tr = tree_reg.predict(X_train)\n",
    "pred_test = tree_reg.predict(X_test)\n",
    "r2_tr = (r2_score(y_train, pred_tr))\n",
    "r2_test = (r2_score(y_test, pred_test))\n",
    "\n",
    "print(\"R2 of train : \", r2_tr)\n",
    "print(\"R2 of test : \", r2_test)"
   ]
  },
  {
   "cell_type": "code",
   "execution_count": 183,
   "metadata": {},
   "outputs": [
    {
     "data": {
      "image/png": "[encoded data removed]",
      "text/plain": [
       "<Figure size 432x288 with 1 Axes>"
      ]
     },
     "metadata": {
      "needs_background": "light"
     },
     "output_type": "display_data"
    }
   ],
   "source": [
    "plt.scatter(y_test, pred_test)\n",
    "plt.plot([0,90000000000], [0,90000000000], 'r');"
   ]
  },
  {
   "cell_type": "code",
   "execution_count": 185,
   "metadata": {},
   "outputs": [],
   "source": [
    "X = movie_train.drop(['Sales', 'log_sales', 'Audience', 'log_audience'], axis=1)\n",
    "y = movie_train['Sales']\n",
    "\n",
    "X_train, X_test, y_train, y_test = train_test_split(X, y, test_size=0.1, random_state=13)"
   ]
  },
  {
   "cell_type": "code",
   "execution_count": 186,
   "metadata": {},
   "outputs": [
    {
     "data": {
      "text/plain": [
       "LinearRegression()"
      ]
     },
     "execution_count": 186,
     "metadata": {},
     "output_type": "execute_result"
    }
   ],
   "source": [
    "reg = LinearRegression()\n",
    "reg.fit(X_train, y_train)"
   ]
  },
  {
   "cell_type": "code",
   "execution_count": 187,
   "metadata": {},
   "outputs": [
    {
     "name": "stdout",
     "output_type": "stream",
     "text": [
      "R2 of train :  0.5873157914025386\n",
      "R2 of test :  0.6172626271241126\n"
     ]
    }
   ],
   "source": [
    "pred_tr = reg.predict(X_train)\n",
    "pred_test = reg.predict(X_test)\n",
    "r2_tr = (r2_score(y_train, pred_tr))\n",
    "r2_test = (r2_score(y_test, pred_test))\n",
    "\n",
    "print(\"R2 of train : \", r2_tr)\n",
    "print(\"R2 of test : \", r2_test)"
   ]
  },
  {
   "cell_type": "code",
   "execution_count": 188,
   "metadata": {},
   "outputs": [
    {
     "data": {
      "image/png": "[encoded data removed]",
      "text/plain": [
       "<Figure size 432x288 with 1 Axes>"
      ]
     },
     "metadata": {
      "needs_background": "light"
     },
     "output_type": "display_data"
    }
   ],
   "source": [
    "plt.scatter(y_test, pred_test)\n",
    "plt.plot([0,90000000000], [0,90000000000], 'r');"
   ]
  },
  {
   "cell_type": "code",
   "execution_count": 189,
   "metadata": {},
   "outputs": [
    {
     "data": {
      "text/plain": [
       "DecisionTreeRegressor(random_state=13)"
      ]
     },
     "execution_count": 189,
     "metadata": {},
     "output_type": "execute_result"
    }
   ],
   "source": [
    "tree_reg = DecisionTreeRegressor(random_state=13)\n",
    "tree_reg.fit(X_train, y_train)"
   ]
  },
  {
   "cell_type": "code",
   "execution_count": 190,
   "metadata": {},
   "outputs": [
    {
     "name": "stdout",
     "output_type": "stream",
     "text": [
      "R2 of train :  0.9999999999997587\n",
      "R2 of test :  0.6921745210731397\n"
     ]
    }
   ],
   "source": [
    "pred_tr = tree_reg.predict(X_train)\n",
    "pred_test = tree_reg.predict(X_test)\n",
    "r2_tr = (r2_score(y_train, pred_tr))\n",
    "r2_test = (r2_score(y_test, pred_test))\n",
    "\n",
    "print(\"R2 of train : \", r2_tr)\n",
    "print(\"R2 of test : \", r2_test)"
   ]
  },
  {
   "cell_type": "code",
   "execution_count": 191,
   "metadata": {},
   "outputs": [
    {
     "data": {
      "image/png": "[encoded data removed]",
      "text/plain": [
       "<Figure size 432x288 with 1 Axes>"
      ]
     },
     "metadata": {
      "needs_background": "light"
     },
     "output_type": "display_data"
    }
   ],
   "source": [
    "plt.scatter(y_test, pred_test)\n",
    "plt.plot([0,90000000000], [0,90000000000], 'r');"
   ]
  },
  {
   "cell_type": "code",
   "execution_count": 193,
   "metadata": {},
   "outputs": [
    {
     "data": {
      "text/plain": [
       "RandomForestRegressor(max_depth=15, n_estimators=35, random_state=13)"
      ]
     },
     "execution_count": 193,
     "metadata": {},
     "output_type": "execute_result"
    }
   ],
   "source": [
    "import sklearn.metrics as metrics\n",
    "from sklearn.ensemble import RandomForestRegressor\n",
    "\n",
    "randFor = RandomForestRegressor(random_state=13, n_estimators=35, max_depth=15)\n",
    "randFor.fit(X_train, y_train)"
   ]
  },
  {
   "cell_type": "code",
   "execution_count": 194,
   "metadata": {},
   "outputs": [
    {
     "name": "stdout",
     "output_type": "stream",
     "text": [
      "R2 of train :  0.9483672041739897\n",
      "R2 of test :  0.707184319487462\n"
     ]
    }
   ],
   "source": [
    "pred_tr = randFor.predict(X_train)\n",
    "pred_test = randFor.predict(X_test)\n",
    "r2_tr = (r2_score(y_train, pred_tr))\n",
    "r2_test = (r2_score(y_test, pred_test))\n",
    "\n",
    "print(\"R2 of train : \", r2_tr)\n",
    "print(\"R2 of test : \", r2_test)"
   ]
  },
  {
   "cell_type": "code",
   "execution_count": null,
   "metadata": {},
   "outputs": [],
   "source": []
  }
 ],
 "metadata": {
  "kernelspec": {
   "display_name": "Python 3",
   "language": "python",
   "name": "python3"
  },
  "language_info": {
   "codemirror_mode": {
    "name": "ipython",
    "version": 3
   },
   "file_extension": ".py",
   "mimetype": "text/x-python",
   "name": "python",
   "nbconvert_exporter": "python",
   "pygments_lexer": "ipython3",
   "version": "3.7.9"
  }
 },
 "nbformat": 4,
 "nbformat_minor": 4
}

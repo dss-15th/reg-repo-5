{
 "cells": [
  {
   "cell_type": "code",
   "execution_count": 53,
   "metadata": {},
   "outputs": [],
   "source": [
    "movie = pd.read_csv('./datas/final_movie_Rev6.csv', index_col=[0])\n",
    "movie.reset_index(drop=True, inplace=True)"
   ]
  },
  {
   "cell_type": "code",
   "execution_count": 54,
   "metadata": {},
   "outputs": [
    {
     "name": "stdout",
     "output_type": "stream",
     "text": [
      "<class 'pandas.core.frame.DataFrame'>\n",
      "RangeIndex: 813 entries, 0 to 812\n",
      "Data columns (total 73 columns):\n",
      " #   Column          Non-Null Count  Dtype  \n",
      "---  ------          --------------  -----  \n",
      " 0   Movie           813 non-null    object \n",
      " 1   Distributor     813 non-null    object \n",
      " 2   Screen          813 non-null    int64  \n",
      " 3   Sales           813 non-null    float64\n",
      " 4   Audience        813 non-null    int64  \n",
      " 5   이경영             813 non-null    int64  \n",
      " 6   정인기             813 non-null    int64  \n",
      " 7   마동석             813 non-null    int64  \n",
      " 8   배성우             813 non-null    int64  \n",
      " 9   오달수             813 non-null    int64  \n",
      " 10  라미란             813 non-null    int64  \n",
      " 11  조진웅             813 non-null    int64  \n",
      " 12  김기천             813 non-null    int64  \n",
      " 13  한이진             813 non-null    int64  \n",
      " 14  오정세             813 non-null    int64  \n",
      " 15  CJEnM           813 non-null    int64  \n",
      " 16  LotteShop       813 non-null    int64  \n",
      " 17  Next            813 non-null    int64  \n",
      " 18  ShowBox         813 non-null    int64  \n",
      " 19  CJEnt           813 non-null    int64  \n",
      " 20  rate_12세이상관람가   813 non-null    int64  \n",
      " 21  rate_15세이상관람가   813 non-null    int64  \n",
      " 22  rate_18세관람가     813 non-null    int64  \n",
      " 23  rate_전체관람가      813 non-null    int64  \n",
      " 24  rate_청소년관람불가    813 non-null    int64  \n",
      " 25  genre_SF        813 non-null    int64  \n",
      " 26  genre_가족        813 non-null    int64  \n",
      " 27  genre_공연        813 non-null    int64  \n",
      " 28  genre_공포(호러)    813 non-null    int64  \n",
      " 29  genre_기타        813 non-null    int64  \n",
      " 30  genre_다큐멘터리     813 non-null    int64  \n",
      " 31  genre_드라마       813 non-null    int64  \n",
      " 32  genre_멜로/로맨스    813 non-null    int64  \n",
      " 33  genre_뮤지컬       813 non-null    int64  \n",
      " 34  genre_미스터리      813 non-null    int64  \n",
      " 35  genre_범죄        813 non-null    int64  \n",
      " 36  genre_사극        813 non-null    int64  \n",
      " 37  genre_서부극(웨스턴)  813 non-null    int64  \n",
      " 38  genre_스릴러       813 non-null    int64  \n",
      " 39  genre_애니메이션     813 non-null    int64  \n",
      " 40  genre_액션        813 non-null    int64  \n",
      " 41  genre_어드벤처      813 non-null    int64  \n",
      " 42  genre_전쟁        813 non-null    int64  \n",
      " 43  genre_코미디       813 non-null    int64  \n",
      " 44  genre_판타지       813 non-null    int64  \n",
      " 45  season_1        813 non-null    int64  \n",
      " 46  season_2        813 non-null    int64  \n",
      " 47  season_3        813 non-null    int64  \n",
      " 48  season_4        813 non-null    int64  \n",
      " 49  year_2008       813 non-null    int64  \n",
      " 50  year_2009       813 non-null    int64  \n",
      " 51  year_2010       813 non-null    int64  \n",
      " 52  year_2011       813 non-null    int64  \n",
      " 53  year_2012       813 non-null    int64  \n",
      " 54  year_2013       813 non-null    int64  \n",
      " 55  year_2014       813 non-null    int64  \n",
      " 56  year_2015       813 non-null    int64  \n",
      " 57  year_2016       813 non-null    int64  \n",
      " 58  year_2017       813 non-null    int64  \n",
      " 59  year_2018       813 non-null    int64  \n",
      " 60  year_2019       813 non-null    int64  \n",
      " 61  month_1         813 non-null    int64  \n",
      " 62  month_2         813 non-null    int64  \n",
      " 63  month_3         813 non-null    int64  \n",
      " 64  month_4         813 non-null    int64  \n",
      " 65  month_5         813 non-null    int64  \n",
      " 66  month_6         813 non-null    int64  \n",
      " 67  month_7         813 non-null    int64  \n",
      " 68  month_8         813 non-null    int64  \n",
      " 69  month_9         813 non-null    int64  \n",
      " 70  month_10        813 non-null    int64  \n",
      " 71  month_11        813 non-null    int64  \n",
      " 72  month_12        813 non-null    int64  \n",
      "dtypes: float64(1), int64(70), object(2)\n",
      "memory usage: 463.8+ KB\n"
     ]
    }
   ],
   "source": [
    "movie.info()"
   ]
  },
  {
   "cell_type": "code",
   "execution_count": 55,
   "metadata": {},
   "outputs": [],
   "source": [
    "from sklearn.model_selection import train_test_split\n",
    "\n",
    "train_set, test_set = train_test_split(movie, test_size=0.1, random_state=13)"
   ]
  },
  {
   "cell_type": "code",
   "execution_count": 56,
   "metadata": {},
   "outputs": [],
   "source": [
    "movie['screen_cat'] = pd.cut(movie['Screen'], bins=[0, 500, 1000, 1500, 2000, np.inf], labels=[1, 2, 3, 4, 5])"
   ]
  },
  {
   "cell_type": "code",
   "execution_count": 57,
   "metadata": {
    "scrolled": true
   },
   "outputs": [
    {
     "data": {
      "text/html": [
       "<div>\n",
       "<style scoped>\n",
       "    .dataframe tbody tr th:only-of-type {\n",
       "        vertical-align: middle;\n",
       "    }\n",
       "\n",
       "    .dataframe tbody tr th {\n",
       "        vertical-align: top;\n",
       "    }\n",
       "\n",
       "    .dataframe thead th {\n",
       "        text-align: right;\n",
       "    }\n",
       "</style>\n",
       "<table border=\"1\" class=\"dataframe\">\n",
       "  <thead>\n",
       "    <tr style=\"text-align: right;\">\n",
       "      <th></th>\n",
       "      <th>Movie</th>\n",
       "      <th>Distributor</th>\n",
       "      <th>Screen</th>\n",
       "      <th>Sales</th>\n",
       "      <th>Audience</th>\n",
       "      <th>이경영</th>\n",
       "      <th>정인기</th>\n",
       "      <th>마동석</th>\n",
       "      <th>배성우</th>\n",
       "      <th>오달수</th>\n",
       "      <th>...</th>\n",
       "      <th>month_4</th>\n",
       "      <th>month_5</th>\n",
       "      <th>month_6</th>\n",
       "      <th>month_7</th>\n",
       "      <th>month_8</th>\n",
       "      <th>month_9</th>\n",
       "      <th>month_10</th>\n",
       "      <th>month_11</th>\n",
       "      <th>month_12</th>\n",
       "      <th>screen_cat</th>\n",
       "    </tr>\n",
       "  </thead>\n",
       "  <tbody>\n",
       "    <tr>\n",
       "      <th>406</th>\n",
       "      <td>소녀괴담</td>\n",
       "      <td>(주)리틀빅픽쳐스</td>\n",
       "      <td>455</td>\n",
       "      <td>3546.340054</td>\n",
       "      <td>480528</td>\n",
       "      <td>0</td>\n",
       "      <td>0</td>\n",
       "      <td>0</td>\n",
       "      <td>0</td>\n",
       "      <td>0</td>\n",
       "      <td>...</td>\n",
       "      <td>0</td>\n",
       "      <td>0</td>\n",
       "      <td>0</td>\n",
       "      <td>1</td>\n",
       "      <td>0</td>\n",
       "      <td>0</td>\n",
       "      <td>0</td>\n",
       "      <td>0</td>\n",
       "      <td>0</td>\n",
       "      <td>1</td>\n",
       "    </tr>\n",
       "    <tr>\n",
       "      <th>561</th>\n",
       "      <td>히트</td>\n",
       "      <td>(주)넥스트엔터테인먼트월드(NEW)</td>\n",
       "      <td>171</td>\n",
       "      <td>771.023500</td>\n",
       "      <td>109019</td>\n",
       "      <td>0</td>\n",
       "      <td>0</td>\n",
       "      <td>0</td>\n",
       "      <td>0</td>\n",
       "      <td>0</td>\n",
       "      <td>...</td>\n",
       "      <td>0</td>\n",
       "      <td>0</td>\n",
       "      <td>0</td>\n",
       "      <td>0</td>\n",
       "      <td>0</td>\n",
       "      <td>0</td>\n",
       "      <td>1</td>\n",
       "      <td>0</td>\n",
       "      <td>0</td>\n",
       "      <td>1</td>\n",
       "    </tr>\n",
       "    <tr>\n",
       "      <th>562</th>\n",
       "      <td>허밍</td>\n",
       "      <td>롯데쇼핑㈜롯데엔터테인먼트</td>\n",
       "      <td>167</td>\n",
       "      <td>640.923000</td>\n",
       "      <td>104850</td>\n",
       "      <td>0</td>\n",
       "      <td>0</td>\n",
       "      <td>0</td>\n",
       "      <td>0</td>\n",
       "      <td>0</td>\n",
       "      <td>...</td>\n",
       "      <td>0</td>\n",
       "      <td>0</td>\n",
       "      <td>0</td>\n",
       "      <td>0</td>\n",
       "      <td>0</td>\n",
       "      <td>0</td>\n",
       "      <td>0</td>\n",
       "      <td>0</td>\n",
       "      <td>0</td>\n",
       "      <td>1</td>\n",
       "    </tr>\n",
       "    <tr>\n",
       "      <th>320</th>\n",
       "      <td>숙명</td>\n",
       "      <td>씨제이엔터테인먼트</td>\n",
       "      <td>341</td>\n",
       "      <td>5680.873500</td>\n",
       "      <td>858215</td>\n",
       "      <td>0</td>\n",
       "      <td>0</td>\n",
       "      <td>0</td>\n",
       "      <td>0</td>\n",
       "      <td>0</td>\n",
       "      <td>...</td>\n",
       "      <td>0</td>\n",
       "      <td>0</td>\n",
       "      <td>0</td>\n",
       "      <td>0</td>\n",
       "      <td>0</td>\n",
       "      <td>0</td>\n",
       "      <td>0</td>\n",
       "      <td>0</td>\n",
       "      <td>0</td>\n",
       "      <td>1</td>\n",
       "    </tr>\n",
       "    <tr>\n",
       "      <th>319</th>\n",
       "      <td>미확인 동영상 : 절대클릭금지</td>\n",
       "      <td>(주)쇼박스</td>\n",
       "      <td>361</td>\n",
       "      <td>5939.840500</td>\n",
       "      <td>867386</td>\n",
       "      <td>0</td>\n",
       "      <td>0</td>\n",
       "      <td>0</td>\n",
       "      <td>0</td>\n",
       "      <td>0</td>\n",
       "      <td>...</td>\n",
       "      <td>0</td>\n",
       "      <td>1</td>\n",
       "      <td>0</td>\n",
       "      <td>0</td>\n",
       "      <td>0</td>\n",
       "      <td>0</td>\n",
       "      <td>0</td>\n",
       "      <td>0</td>\n",
       "      <td>0</td>\n",
       "      <td>1</td>\n",
       "    </tr>\n",
       "    <tr>\n",
       "      <th>...</th>\n",
       "      <td>...</td>\n",
       "      <td>...</td>\n",
       "      <td>...</td>\n",
       "      <td>...</td>\n",
       "      <td>...</td>\n",
       "      <td>...</td>\n",
       "      <td>...</td>\n",
       "      <td>...</td>\n",
       "      <td>...</td>\n",
       "      <td>...</td>\n",
       "      <td>...</td>\n",
       "      <td>...</td>\n",
       "      <td>...</td>\n",
       "      <td>...</td>\n",
       "      <td>...</td>\n",
       "      <td>...</td>\n",
       "      <td>...</td>\n",
       "      <td>...</td>\n",
       "      <td>...</td>\n",
       "      <td>...</td>\n",
       "      <td>...</td>\n",
       "    </tr>\n",
       "    <tr>\n",
       "      <th>51</th>\n",
       "      <td>안시성</td>\n",
       "      <td>(주)넥스트엔터테인먼트월드(NEW)</td>\n",
       "      <td>1540</td>\n",
       "      <td>46335.334026</td>\n",
       "      <td>5440186</td>\n",
       "      <td>0</td>\n",
       "      <td>0</td>\n",
       "      <td>0</td>\n",
       "      <td>1</td>\n",
       "      <td>0</td>\n",
       "      <td>...</td>\n",
       "      <td>0</td>\n",
       "      <td>0</td>\n",
       "      <td>0</td>\n",
       "      <td>0</td>\n",
       "      <td>0</td>\n",
       "      <td>1</td>\n",
       "      <td>0</td>\n",
       "      <td>0</td>\n",
       "      <td>0</td>\n",
       "      <td>4</td>\n",
       "    </tr>\n",
       "    <tr>\n",
       "      <th>39</th>\n",
       "      <td>백두산</td>\n",
       "      <td>씨제이이앤엠(주),(주)덱스터스튜디오</td>\n",
       "      <td>1971</td>\n",
       "      <td>52905.789770</td>\n",
       "      <td>6290502</td>\n",
       "      <td>1</td>\n",
       "      <td>0</td>\n",
       "      <td>1</td>\n",
       "      <td>0</td>\n",
       "      <td>0</td>\n",
       "      <td>...</td>\n",
       "      <td>0</td>\n",
       "      <td>0</td>\n",
       "      <td>0</td>\n",
       "      <td>0</td>\n",
       "      <td>0</td>\n",
       "      <td>0</td>\n",
       "      <td>0</td>\n",
       "      <td>0</td>\n",
       "      <td>1</td>\n",
       "      <td>4</td>\n",
       "    </tr>\n",
       "    <tr>\n",
       "      <th>0</th>\n",
       "      <td>명량</td>\n",
       "      <td>씨제이이앤엠(주)</td>\n",
       "      <td>1587</td>\n",
       "      <td>135748.398910</td>\n",
       "      <td>17613682</td>\n",
       "      <td>0</td>\n",
       "      <td>0</td>\n",
       "      <td>0</td>\n",
       "      <td>0</td>\n",
       "      <td>0</td>\n",
       "      <td>...</td>\n",
       "      <td>0</td>\n",
       "      <td>0</td>\n",
       "      <td>0</td>\n",
       "      <td>1</td>\n",
       "      <td>0</td>\n",
       "      <td>0</td>\n",
       "      <td>0</td>\n",
       "      <td>0</td>\n",
       "      <td>0</td>\n",
       "      <td>4</td>\n",
       "    </tr>\n",
       "    <tr>\n",
       "      <th>38</th>\n",
       "      <td>군함도</td>\n",
       "      <td>씨제이이앤엠(주)</td>\n",
       "      <td>2027</td>\n",
       "      <td>50510.565168</td>\n",
       "      <td>6592151</td>\n",
       "      <td>1</td>\n",
       "      <td>0</td>\n",
       "      <td>0</td>\n",
       "      <td>0</td>\n",
       "      <td>0</td>\n",
       "      <td>...</td>\n",
       "      <td>0</td>\n",
       "      <td>0</td>\n",
       "      <td>0</td>\n",
       "      <td>1</td>\n",
       "      <td>0</td>\n",
       "      <td>0</td>\n",
       "      <td>0</td>\n",
       "      <td>0</td>\n",
       "      <td>0</td>\n",
       "      <td>5</td>\n",
       "    </tr>\n",
       "    <tr>\n",
       "      <th>9</th>\n",
       "      <td>신과함께-인과 연</td>\n",
       "      <td>롯데컬처웍스(주)롯데엔터테인먼트</td>\n",
       "      <td>2235</td>\n",
       "      <td>102476.768809</td>\n",
       "      <td>12253247</td>\n",
       "      <td>0</td>\n",
       "      <td>0</td>\n",
       "      <td>1</td>\n",
       "      <td>0</td>\n",
       "      <td>0</td>\n",
       "      <td>...</td>\n",
       "      <td>0</td>\n",
       "      <td>0</td>\n",
       "      <td>0</td>\n",
       "      <td>0</td>\n",
       "      <td>1</td>\n",
       "      <td>0</td>\n",
       "      <td>0</td>\n",
       "      <td>0</td>\n",
       "      <td>0</td>\n",
       "      <td>5</td>\n",
       "    </tr>\n",
       "  </tbody>\n",
       "</table>\n",
       "<p>813 rows × 74 columns</p>\n",
       "</div>"
      ],
      "text/plain": [
       "                Movie           Distributor  Screen          Sales  Audience  \\\n",
       "406              소녀괴담             (주)리틀빅픽쳐스     455    3546.340054    480528   \n",
       "561                히트   (주)넥스트엔터테인먼트월드(NEW)     171     771.023500    109019   \n",
       "562                허밍         롯데쇼핑㈜롯데엔터테인먼트     167     640.923000    104850   \n",
       "320                숙명             씨제이엔터테인먼트     341    5680.873500    858215   \n",
       "319  미확인 동영상 : 절대클릭금지                (주)쇼박스     361    5939.840500    867386   \n",
       "..                ...                   ...     ...            ...       ...   \n",
       "51                안시성   (주)넥스트엔터테인먼트월드(NEW)    1540   46335.334026   5440186   \n",
       "39                백두산  씨제이이앤엠(주),(주)덱스터스튜디오    1971   52905.789770   6290502   \n",
       "0                  명량             씨제이이앤엠(주)    1587  135748.398910  17613682   \n",
       "38                군함도             씨제이이앤엠(주)    2027   50510.565168   6592151   \n",
       "9           신과함께-인과 연     롯데컬처웍스(주)롯데엔터테인먼트    2235  102476.768809  12253247   \n",
       "\n",
       "     이경영  정인기  마동석  배성우  오달수  ...  month_4  month_5  month_6  month_7  \\\n",
       "406    0    0    0    0    0  ...        0        0        0        1   \n",
       "561    0    0    0    0    0  ...        0        0        0        0   \n",
       "562    0    0    0    0    0  ...        0        0        0        0   \n",
       "320    0    0    0    0    0  ...        0        0        0        0   \n",
       "319    0    0    0    0    0  ...        0        1        0        0   \n",
       "..   ...  ...  ...  ...  ...  ...      ...      ...      ...      ...   \n",
       "51     0    0    0    1    0  ...        0        0        0        0   \n",
       "39     1    0    1    0    0  ...        0        0        0        0   \n",
       "0      0    0    0    0    0  ...        0        0        0        1   \n",
       "38     1    0    0    0    0  ...        0        0        0        1   \n",
       "9      0    0    1    0    0  ...        0        0        0        0   \n",
       "\n",
       "     month_8  month_9  month_10  month_11  month_12  screen_cat  \n",
       "406        0        0         0         0         0           1  \n",
       "561        0        0         1         0         0           1  \n",
       "562        0        0         0         0         0           1  \n",
       "320        0        0         0         0         0           1  \n",
       "319        0        0         0         0         0           1  \n",
       "..       ...      ...       ...       ...       ...         ...  \n",
       "51         0        1         0         0         0           4  \n",
       "39         0        0         0         0         1           4  \n",
       "0          0        0         0         0         0           4  \n",
       "38         0        0         0         0         0           5  \n",
       "9          1        0         0         0         0           5  \n",
       "\n",
       "[813 rows x 74 columns]"
      ]
     },
     "execution_count": 57,
     "metadata": {},
     "output_type": "execute_result"
    }
   ],
   "source": [
    "movie.sort_values(by='screen_cat')"
   ]
  },
  {
   "cell_type": "code",
   "execution_count": 58,
   "metadata": {},
   "outputs": [],
   "source": [
    "from sklearn.model_selection import StratifiedShuffleSplit\n",
    "\n",
    "split = StratifiedShuffleSplit(n_splits=3, test_size=0.1, random_state=13)\n",
    "for train_index, test_index in split.split(movie, movie['screen_cat']):\n",
    "    strat_train_set = movie.loc[train_index]\n",
    "    strat_test_set = movie.loc[test_index]"
   ]
  },
  {
   "cell_type": "code",
   "execution_count": 59,
   "metadata": {},
   "outputs": [],
   "source": [
    "movie = strat_train_set.copy()"
   ]
  },
  {
   "cell_type": "code",
   "execution_count": 64,
   "metadata": {},
   "outputs": [
    {
     "name": "stdout",
     "output_type": "stream",
     "text": [
      "<class 'pandas.core.frame.DataFrame'>\n",
      "Int64Index: 731 entries, 610 to 274\n",
      "Data columns (total 72 columns):\n",
      " #   Column          Non-Null Count  Dtype   \n",
      "---  ------          --------------  -----   \n",
      " 0   Movie           731 non-null    object  \n",
      " 1   Distributor     731 non-null    object  \n",
      " 2   Screen          731 non-null    int64   \n",
      " 3   이경영             731 non-null    int64   \n",
      " 4   정인기             731 non-null    int64   \n",
      " 5   마동석             731 non-null    int64   \n",
      " 6   배성우             731 non-null    int64   \n",
      " 7   오달수             731 non-null    int64   \n",
      " 8   라미란             731 non-null    int64   \n",
      " 9   조진웅             731 non-null    int64   \n",
      " 10  김기천             731 non-null    int64   \n",
      " 11  한이진             731 non-null    int64   \n",
      " 12  오정세             731 non-null    int64   \n",
      " 13  CJEnM           731 non-null    int64   \n",
      " 14  LotteShop       731 non-null    int64   \n",
      " 15  Next            731 non-null    int64   \n",
      " 16  ShowBox         731 non-null    int64   \n",
      " 17  CJEnt           731 non-null    int64   \n",
      " 18  rate_12세이상관람가   731 non-null    int64   \n",
      " 19  rate_15세이상관람가   731 non-null    int64   \n",
      " 20  rate_18세관람가     731 non-null    int64   \n",
      " 21  rate_전체관람가      731 non-null    int64   \n",
      " 22  rate_청소년관람불가    731 non-null    int64   \n",
      " 23  genre_SF        731 non-null    int64   \n",
      " 24  genre_가족        731 non-null    int64   \n",
      " 25  genre_공연        731 non-null    int64   \n",
      " 26  genre_공포(호러)    731 non-null    int64   \n",
      " 27  genre_기타        731 non-null    int64   \n",
      " 28  genre_다큐멘터리     731 non-null    int64   \n",
      " 29  genre_드라마       731 non-null    int64   \n",
      " 30  genre_멜로/로맨스    731 non-null    int64   \n",
      " 31  genre_뮤지컬       731 non-null    int64   \n",
      " 32  genre_미스터리      731 non-null    int64   \n",
      " 33  genre_범죄        731 non-null    int64   \n",
      " 34  genre_사극        731 non-null    int64   \n",
      " 35  genre_서부극(웨스턴)  731 non-null    int64   \n",
      " 36  genre_스릴러       731 non-null    int64   \n",
      " 37  genre_애니메이션     731 non-null    int64   \n",
      " 38  genre_액션        731 non-null    int64   \n",
      " 39  genre_어드벤처      731 non-null    int64   \n",
      " 40  genre_전쟁        731 non-null    int64   \n",
      " 41  genre_코미디       731 non-null    int64   \n",
      " 42  genre_판타지       731 non-null    int64   \n",
      " 43  season_1        731 non-null    int64   \n",
      " 44  season_2        731 non-null    int64   \n",
      " 45  season_3        731 non-null    int64   \n",
      " 46  season_4        731 non-null    int64   \n",
      " 47  year_2008       731 non-null    int64   \n",
      " 48  year_2009       731 non-null    int64   \n",
      " 49  year_2010       731 non-null    int64   \n",
      " 50  year_2011       731 non-null    int64   \n",
      " 51  year_2012       731 non-null    int64   \n",
      " 52  year_2013       731 non-null    int64   \n",
      " 53  year_2014       731 non-null    int64   \n",
      " 54  year_2015       731 non-null    int64   \n",
      " 55  year_2016       731 non-null    int64   \n",
      " 56  year_2017       731 non-null    int64   \n",
      " 57  year_2018       731 non-null    int64   \n",
      " 58  year_2019       731 non-null    int64   \n",
      " 59  month_1         731 non-null    int64   \n",
      " 60  month_2         731 non-null    int64   \n",
      " 61  month_3         731 non-null    int64   \n",
      " 62  month_4         731 non-null    int64   \n",
      " 63  month_5         731 non-null    int64   \n",
      " 64  month_6         731 non-null    int64   \n",
      " 65  month_7         731 non-null    int64   \n",
      " 66  month_8         731 non-null    int64   \n",
      " 67  month_9         731 non-null    int64   \n",
      " 68  month_10        731 non-null    int64   \n",
      " 69  month_11        731 non-null    int64   \n",
      " 70  month_12        731 non-null    int64   \n",
      " 71  screen_cat      731 non-null    category\n",
      "dtypes: category(1), int64(69), object(2)\n",
      "memory usage: 412.1+ KB\n"
     ]
    }
   ],
   "source": [
    "movie.info()"
   ]
  },
  {
   "cell_type": "code",
   "execution_count": 65,
   "metadata": {},
   "outputs": [],
   "source": [
    "movie = strat_train_set.drop(['Sales', 'Audience', 'Movie', 'Distributor'], axis=1)\n",
    "movie_labels = strat_train_set['Sales']"
   ]
  },
  {
   "cell_type": "code",
   "execution_count": 62,
   "metadata": {},
   "outputs": [],
   "source": [
    "# movie_num = movie.drop(['Movie', 'Distributor', 'Genre', 'Rate', 'Year', 'Month', 'Season', 'Screen'], axis=1)"
   ]
  },
  {
   "cell_type": "code",
   "execution_count": 128,
   "metadata": {},
   "outputs": [],
   "source": [
    "# from sklearn.pipeline import Pipeline\n",
    "# from sklearn.preprocessing import StandardScaler\n",
    "\n",
    "# num_pipeline = Pipeline([\n",
    "#     ('std_scaler', StandardScaler())\n",
    "# ])"
   ]
  },
  {
   "cell_type": "code",
   "execution_count": 46,
   "metadata": {},
   "outputs": [],
   "source": [
    "# from sklearn.compose import ColumnTransformer\n",
    "\n",
    "# num_attribs = list(movie_num)\n",
    "# cat_attribs = [\"Genre\", \"Rate\", \"Season\", \"Year\", \"Month\"]\n",
    "\n",
    "# full_pipeline = ColumnTransformer([\n",
    "# #     (\"num\", num_pipeline, num_attribs),\n",
    "#     (\"cat\", OneHotEncoder(), cat_attribs)\n",
    "# ])\n",
    "\n",
    "# movie_prepared = full_pipeline.fit_transform(movie)"
   ]
  },
  {
   "cell_type": "code",
   "execution_count": 66,
   "metadata": {},
   "outputs": [],
   "source": [
    "# movie_prepared.toarray()"
   ]
  },
  {
   "cell_type": "code",
   "execution_count": 67,
   "metadata": {},
   "outputs": [
    {
     "data": {
      "text/plain": [
       "LinearRegression()"
      ]
     },
     "execution_count": 67,
     "metadata": {},
     "output_type": "execute_result"
    }
   ],
   "source": [
    "from sklearn.linear_model import LinearRegression\n",
    "\n",
    "reg = LinearRegression()\n",
    "reg.fit(movie, movie_labels)"
   ]
  },
  {
   "cell_type": "code",
   "execution_count": 70,
   "metadata": {},
   "outputs": [
    {
     "name": "stdout",
     "output_type": "stream",
     "text": [
      "RMSE of Train Data :  10635.608948586609\n"
     ]
    }
   ],
   "source": [
    "pred_tr = reg.predict(movie)\n",
    "# pred_test = reg.predict(X_test)\n",
    "rmse_tr = (np.sqrt(mean_squared_error(movie_labels, pred_tr)))\n",
    "# rmse_test = (np.sqrt(mean_squared_error(y_test, pred_test)))\n",
    "\n",
    "print('RMSE of Train Data : ', rmse_tr)\n",
    "# print('RMSE of Test Data : ', rmse_test)"
   ]
  },
  {
   "cell_type": "code",
   "execution_count": 71,
   "metadata": {},
   "outputs": [],
   "source": [
    "# some_data = movie.iloc[:5]\n",
    "# some_labels = movie_labels.iloc[:5]\n",
    "# some_data_prepared = full_pipeline.transform(some_data)\n",
    "\n",
    "# print(\"Predict : \", reg.predict(some_data_prepared))"
   ]
  },
  {
   "cell_type": "code",
   "execution_count": 50,
   "metadata": {},
   "outputs": [
    {
     "name": "stdout",
     "output_type": "stream",
     "text": [
      "Label :  [88900.208769, 23790.276987, 308.898, 5680.8735, 8864.695589]\n"
     ]
    }
   ],
   "source": [
    "print(\"Label : \", list(some_labels))"
   ]
  },
  {
   "cell_type": "code",
   "execution_count": 51,
   "metadata": {},
   "outputs": [
    {
     "name": "stdout",
     "output_type": "stream",
     "text": [
      "RMSE :  15516.916098405687\n"
     ]
    }
   ],
   "source": [
    "from sklearn.metrics import mean_squared_error\n",
    "\n",
    "movie_predictions = reg.predict(movie_prepared)\n",
    "rmse = np.sqrt(mean_squared_error(movie_labels, movie_predictions))\n",
    "print(\"RMSE : \", rmse)"
   ]
  },
  {
   "cell_type": "code",
   "execution_count": 52,
   "metadata": {},
   "outputs": [
    {
     "name": "stdout",
     "output_type": "stream",
     "text": [
      "MAE :  9951.482054092583\n"
     ]
    }
   ],
   "source": [
    "from sklearn.metrics import mean_absolute_error\n",
    "\n",
    "mae = mean_absolute_error(movie_labels, movie_predictions)\n",
    "print(\"MAE : \", mae)"
   ]
  },
  {
   "cell_type": "code",
   "execution_count": null,
   "metadata": {},
   "outputs": [],
   "source": []
  },
  {
   "cell_type": "code",
   "execution_count": null,
   "metadata": {},
   "outputs": [],
   "source": []
  },
  {
   "cell_type": "code",
   "execution_count": null,
   "metadata": {},
   "outputs": [],
   "source": []
  },
  {
   "cell_type": "code",
   "execution_count": null,
   "metadata": {},
   "outputs": [],
   "source": []
  },
  {
   "cell_type": "code",
   "execution_count": null,
   "metadata": {},
   "outputs": [],
   "source": []
  },
  {
   "cell_type": "code",
   "execution_count": 92,
   "metadata": {},
   "outputs": [
    {
     "data": {
      "text/plain": [
       "DecisionTreeRegressor(random_state=13)"
      ]
     },
     "execution_count": 92,
     "metadata": {},
     "output_type": "execute_result"
    }
   ],
   "source": [
    "from sklearn.tree import DecisionTreeRegressor\n",
    "\n",
    "tree_reg = DecisionTreeRegressor(random_state=13)\n",
    "tree_reg.fit(movie_prepared, movie_labels)"
   ]
  },
  {
   "cell_type": "code",
   "execution_count": 94,
   "metadata": {},
   "outputs": [
    {
     "name": "stdout",
     "output_type": "stream",
     "text": [
      "RMSE :  0.0\n"
     ]
    }
   ],
   "source": [
    "movie_predictions = tree_reg.predict(movie_prepared)\n",
    "tree_rmse = np.sqrt(mean_squared_error(movie_labels, movie_predictions))\n",
    "print(\"RMSE : \", tree_rmse)"
   ]
  },
  {
   "cell_type": "code",
   "execution_count": 95,
   "metadata": {},
   "outputs": [],
   "source": [
    "from sklearn.model_selection import cross_val_score\n",
    "\n",
    "scores = cross_val_score(tree_reg, movie_prepared, movie_labels, scoring='neg_mean_squared_error', cv=10)\n",
    "tree_rmse_scores = np.sqrt(-scores)"
   ]
  },
  {
   "cell_type": "code",
   "execution_count": 96,
   "metadata": {},
   "outputs": [],
   "source": [
    "def display_scores(scores):\n",
    "    print(\"score : \", scores)\n",
    "    print(\"mean : \", scores.mean())\n",
    "    print(\"std : \", scores.std())"
   ]
  },
  {
   "cell_type": "code",
   "execution_count": 98,
   "metadata": {},
   "outputs": [
    {
     "name": "stdout",
     "output_type": "stream",
     "text": [
      "score :  [2.36943799e+09 1.30944505e+09 3.26650431e+09 1.21376777e+09\n",
      " 1.07995235e+09 1.04726300e+09 1.23100140e+09 3.82929305e+09\n",
      " 1.34366981e+09 1.79994393e+09]\n",
      "mean :  1849027867.7198021\n",
      "std :  936497631.6305668\n"
     ]
    }
   ],
   "source": [
    "display_scores(tree_rmse_scores)"
   ]
  },
  {
   "cell_type": "code",
   "execution_count": 99,
   "metadata": {},
   "outputs": [
    {
     "name": "stdout",
     "output_type": "stream",
     "text": [
      "score :  [1.14418331e+09 1.01484775e+09 9.60745985e+08 9.01347935e+08\n",
      " 9.77882305e+08 7.18977268e+08 9.04494623e+08 1.14303589e+09\n",
      " 1.40977639e+09 1.69913100e+09]\n",
      "mean :  1087442246.272406\n",
      "std :  268619673.6362124\n"
     ]
    }
   ],
   "source": [
    "lin_scores = cross_val_score(reg, movie_prepared, movie_labels, scoring='neg_mean_squared_error', cv=10)\n",
    "lin_rmse_scores = np.sqrt(-lin_scores)\n",
    "display_scores(lin_rmse_scores)"
   ]
  },
  {
   "cell_type": "code",
   "execution_count": 100,
   "metadata": {},
   "outputs": [
    {
     "data": {
      "text/plain": [
       "RandomForestRegressor(random_state=13)"
      ]
     },
     "execution_count": 100,
     "metadata": {},
     "output_type": "execute_result"
    }
   ],
   "source": [
    "from sklearn.ensemble import RandomForestRegressor\n",
    "\n",
    "forest_reg = RandomForestRegressor(n_estimators=100, random_state=13)\n",
    "forest_reg.fit(movie_prepared, movie_labels)"
   ]
  },
  {
   "cell_type": "code",
   "execution_count": 101,
   "metadata": {},
   "outputs": [
    {
     "name": "stdout",
     "output_type": "stream",
     "text": [
      "RMSE :  730898041.533993\n"
     ]
    }
   ],
   "source": [
    "movie_predictions = forest_reg.predict(movie_prepared)\n",
    "forest_rmse = np.sqrt(mean_squared_error(movie_labels, movie_predictions))\n",
    "print(\"RMSE : \", forest_rmse)"
   ]
  },
  {
   "cell_type": "code",
   "execution_count": 102,
   "metadata": {},
   "outputs": [
    {
     "name": "stdout",
     "output_type": "stream",
     "text": [
      "score :  [1.70316625e+09 1.01426891e+09 2.50439874e+09 7.78002980e+08\n",
      " 8.53873351e+08 9.20442647e+08 1.11295591e+09 4.19137054e+09\n",
      " 1.56320620e+09 1.80641015e+09]\n",
      "mean :  1644809567.6432939\n",
      "std :  992075435.905304\n"
     ]
    }
   ],
   "source": [
    "forest_scores = cross_val_score(forest_reg, movie_prepared, movie_labels, scoring='neg_mean_squared_error', cv=10)\n",
    "forest_rmse_scores = np.sqrt(-forest_scores)\n",
    "display_scores(forest_rmse_scores)"
   ]
  },
  {
   "cell_type": "code",
   "execution_count": null,
   "metadata": {},
   "outputs": [],
   "source": []
  }
 ],
 "metadata": {
  "kernelspec": {
   "display_name": "Python 3",
   "language": "python",
   "name": "python3"
  },
  "language_info": {
   "codemirror_mode": {
    "name": "ipython",
    "version": 3
   },
   "file_extension": ".py",
   "mimetype": "text/x-python",
   "name": "python",
   "nbconvert_exporter": "python",
   "pygments_lexer": "ipython3",
   "version": "3.7.9"
  }
 },
 "nbformat": 4,
 "nbformat_minor": 4
}
